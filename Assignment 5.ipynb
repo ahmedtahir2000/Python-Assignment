{
 "cells": [
  {
   "cell_type": "markdown",
   "metadata": {},
   "source": [
    "\n",
    "        "
   ]
  },
  {
   "cell_type": "code",
   "execution_count": 39,
   "metadata": {},
   "outputs": [
    {
     "data": {
      "text/plain": [
       "620448401733239439360000"
      ]
     },
     "execution_count": 39,
     "metadata": {},
     "output_type": "execute_result"
    }
   ],
   "source": [
    "#Task 1 (1st Method)\n",
    "def factorial(n):\n",
    "    result=1\n",
    "    if(n==0):\n",
    "        return result\n",
    "    else: \n",
    "        result=n*factorial(n-1)\n",
    "        return result\n",
    "factorial(24)"
   ]
  },
  {
   "cell_type": "code",
   "execution_count": 42,
   "metadata": {},
   "outputs": [
    {
     "data": {
      "text/plain": [
       "620448401733239439360000"
      ]
     },
     "execution_count": 42,
     "metadata": {},
     "output_type": "execute_result"
    }
   ],
   "source": [
    "#Task 1 (2nd Method)\n",
    "def factorial(n):\n",
    "    result=1\n",
    "    if(n==0):\n",
    "        return result\n",
    "    for x in range(n):\n",
    "        result=result*(x+1)\n",
    "    return result\n",
    "factorial(24)"
   ]
  },
  {
   "cell_type": "code",
   "execution_count": 76,
   "metadata": {},
   "outputs": [
    {
     "name": "stdout",
     "output_type": "stream",
     "text": [
      "The number of lower case letters:  15\n",
      "The number of upper case letters:  3\n"
     ]
    }
   ],
   "source": [
    "#Task 2\n",
    "def countLetters(y):\n",
    "    count_small=0\n",
    "    count_capital=0\n",
    "    length=len(y)\n",
    "    \n",
    "    for x in range(length):\n",
    "        letter=y[x:x+1]  \n",
    "        if(letter>=\"A\" and letter<=\"Z\"):\n",
    "            count_capital=count_capital+1\n",
    "        elif(letter>=\"a\" and letter<=\"z\"):    \n",
    "            count_small=count_small+1\n",
    "    print(\"The number of lower case letters: \", count_small)\n",
    "    print(\"The number of upper case letters: \", count_capital)\n",
    "countLetters(\"Ahmed Tahir Shekhani\")"
   ]
  },
  {
   "cell_type": "code",
   "execution_count": 92,
   "metadata": {},
   "outputs": [
    {
     "name": "stdout",
     "output_type": "stream",
     "text": [
      "2\n",
      "4\n",
      "8\n"
     ]
    }
   ],
   "source": [
    "#Task 3\n",
    "def printEven(x):\n",
    "    length=len(x)\n",
    "    for y in range(length):\n",
    "        num=x[y]\n",
    "        if (num%2==0):\n",
    "            print(x[y])\n",
    "z=[2, 4, 5, 9, 8]\n",
    "printEven(z)\n",
    "    "
   ]
  },
  {
   "cell_type": "code",
   "execution_count": 105,
   "metadata": {},
   "outputs": [
    {
     "name": "stdout",
     "output_type": "stream",
     "text": [
      "It is palindrome\n"
     ]
    }
   ],
   "source": [
    "#Task 4\n",
    "def checkPalindrome(y):\n",
    "    length=len(y)\n",
    "    check=False\n",
    "    for x in range(length//2):\n",
    "        lf=y[x:x+1]\n",
    "        lb=y[length-x-1:length-x]\n",
    "        if(lf==lb):\n",
    "            check=True\n",
    "        else:\n",
    "            check=False\n",
    "            break\n",
    "    return check\n",
    "        \n",
    "if (checkPalindrome(\"madam\")==False):\n",
    "    print(\"It is not palindrome\")\n",
    "else:\n",
    "    print(\"It is palindrome\")"
   ]
  },
  {
   "cell_type": "code",
   "execution_count": 113,
   "metadata": {},
   "outputs": [
    {
     "name": "stdout",
     "output_type": "stream",
     "text": [
      "It is not prime\n"
     ]
    }
   ],
   "source": [
    "#Task 5\n",
    "def checkPrime(x):\n",
    "    run=x//2\n",
    "    check=False\n",
    "    for y in range(2, run):\n",
    "        if(x%y==0):\n",
    "            check=True\n",
    "            break\n",
    "    if(check==False):\n",
    "        print(\"It is not prime number\")\n",
    "    else:\n",
    "        print(\"It is prime number\")\n",
    "checkPrime(11)\n",
    "        "
   ]
  },
  {
   "cell_type": "code",
   "execution_count": 118,
   "metadata": {},
   "outputs": [
    {
     "name": "stdout",
     "output_type": "stream",
     "text": [
      "Carrots\n",
      "Potatoes\n",
      "Rice\n"
     ]
    }
   ],
   "source": [
    "#Task 6\n",
    "def printItems(*args):\n",
    "    length=len(args)\n",
    "    for x in range(length):\n",
    "        print (args[x])\n",
    "printItems(\"Carrots\", \"Potatoes\", \"Rice\")"
   ]
  },
  {
   "cell_type": "code",
   "execution_count": null,
   "metadata": {},
   "outputs": [],
   "source": []
  }
 ],
 "metadata": {
  "kernelspec": {
   "display_name": "Python 3",
   "language": "python",
   "name": "python3"
  },
  "language_info": {
   "codemirror_mode": {
    "name": "ipython",
    "version": 3
   },
   "file_extension": ".py",
   "mimetype": "text/x-python",
   "name": "python",
   "nbconvert_exporter": "python",
   "pygments_lexer": "ipython3",
   "version": "3.7.4"
  }
 },
 "nbformat": 4,
 "nbformat_minor": 2
}
