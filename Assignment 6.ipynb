{
 "cells": [
  {
   "cell_type": "code",
   "execution_count": 9,
   "metadata": {},
   "outputs": [
    {
     "data": {
      "text/plain": [
       "'\\n•It provides a clear modular structure for programs which makes it good for defining abstract datatypes in which implementation details are hidden\\n•Objects can also be reused within an across applications. The reuse of software also lowers the cost of development. More effort is put into the object-oriented analysis and design, which lowers the overall cost of development.\\n•It makes software easier to maintain. Since the design is modular, part of the system can be updated in case of issues without a need to make large-scale changes\\n•Reuse also enables faster development. Object-oriented programming languages come with rich libraries of objects, and code developed during projects is also reusable in future projects.\\n•It provides a good framework for code libraries where the supplied software components can be easily adapted and modified by the programmer. This is particularly useful for developing graphical user interfaces.\\n•Better Productivity as OOP techniques enforce rules on a programmer that, in the long run, help her get more work done; finished programs work better, have more features and are easier to read and maintain. OOP programmers take new and existing software objects and \"stitch\" them together to make new programs. Because object libraries contain many useful functions, software developers don\\'t have to reinvent the wheel as often; more of their time goes into making the new program.\\n\\n\\n'"
      ]
     },
     "execution_count": 9,
     "metadata": {},
     "output_type": "execute_result"
    }
   ],
   "source": [
    "#Define OOP?\n",
    "\"\"\"\n",
    "Object-oriented programming (OOP) is a programming language model in which programs are organized around data, \n",
    "or objects, rather than functions and logic.\n",
    "An object can be defined as a data field that has unique attributes and behavior.\n",
    "\n",
    "\"\"\"\n",
    "#Advantages of OOP?\n",
    "\"\"\"\n",
    "•It provides a clear modular structure for programs which makes it good for defining abstract datatypes in which implementation details are hidden\n",
    "•Objects can also be reused within an across applications. The reuse of software also lowers the cost of development. More effort is put into the object-oriented analysis and design, which lowers the overall cost of development.\n",
    "•It makes software easier to maintain. Since the design is modular, part of the system can be updated in case of issues without a need to make large-scale changes\n",
    "•Reuse also enables faster development. Object-oriented programming languages come with rich libraries of objects, and code developed during projects is also reusable in future projects.\n",
    "•It provides a good framework for code libraries where the supplied software components can be easily adapted and modified by the programmer. This is particularly useful for developing graphical user interfaces.\n",
    "•Better Productivity as OOP techniques enforce rules on a programmer that, in the long run, help her get more work done; finished programs work better, have more features and are easier to read and maintain. OOP programmers take new and existing software objects and \"stitch\" them together to make new programs. Because object libraries contain many useful functions, software developers don't have to reinvent the wheel as often; more of their time goes into making the new program.\n",
    "\n",
    "\"\"\"\n",
    "\n",
    "#Differentiate between Functions and parameters?\n",
    "\"\"\"\n",
    "A function is a piece of code that is called by name. It can be passed data to operate on (i.e. the parameters) and can optionally return data (the return value). All data that is passed to a function is explicitly passed.\n",
    "A method is a piece of code that is called by a name that is associated with an object. In most respects it is identical to a function except for two key differences:\n",
    "1.\tA method is implicitly passed the object on which it was called.\n",
    "2.\tA method is able to operate on data that is contained within the class (remembering that an object is an instance of a class - the class is the definition, the object is an instance of that data).\n",
    "\n",
    "\"\"\"\n",
    "#Define:\n",
    "\n",
    "\"\"\"\n",
    "1.\tClasses (OOP) In object-oriented programming, a class is a blueprint for creating objects (a particular data structure), providing initial values for state (member variables or attributes), and implementations of behavior (member functions or methods). The user-defined objects are created using the class keyword.\n",
    "2.\tObject: Object − Objects have states and behaviors. Example: A dog has states - color, name, breed as well as behaviors – wagging the tail, barking, eating. An object is an instance of a class\n",
    "3.\tIn Object-oriented programming(OOP), classes and objects have attributes. Attributes are data stored inside a class or instance and represent the state or quality of the class or instance. In short, attributes store information about the instance.\n",
    "4.\tThe behavior of an object is defined by its methods, which are the functions and subroutines defined within the object class. Without class methods, a class would simply be a structure. Methods determine what type of functionality a class has, how it modifies its data, and its overall behavior.\n",
    "\n",
    "\"\"\""
   ]
  },
  {
   "cell_type": "code",
   "execution_count": null,
   "metadata": {},
   "outputs": [],
   "source": [
    "class Car:\n",
    "    def __init__(self, name, color, company, system, model):\n",
    "        self.name=name\n",
    "        self.color=color\n",
    "        self.company=company\n",
    "        self.system=system\n",
    "        self.model=model\n",
    "    def editSystem(self, newsystem):\n",
    "        self.system=newsystem\n",
    "    def editSystem(self, color):\n",
    "        self.color=color\n",
    "    def editSystem(self, model):\n",
    "        self.model=model\n",
    "car1=Car(\"Corolla\", \"Black\", \"Toyota\", \"Manual\", \"2019\")\n",
    "car2=Car(\"Lexus\", \"White\", \"Lexus\", \"Manual\", \"2019\")\n",
    "car3=Car(\"City\", \"Black\", \"Honda\", \"Auto\", \"2001\")\n",
    "car4=Car(\"Civic\", \"Silver\", \"Honda\", \"Manual\", \"2010\")\n",
    "car5=Car(\"Alto\", \"Blue\", \"Suzuki\", \"Manual\", \"2006\")\n",
    "             \n",
    "print(car1.name, \" \", car1.color,\" \", car1.company,\" \", car1.system,\" \", car1.model)\n",
    "print(car2.name, \" \", car2.color,\" \", car2.company,\" \", car2.system,\" \", car2.model)\n",
    "print(car3.name, \" \", car3.color,\" \", car3.company,\" \", car3.system,\" \", car3.model)\n",
    "print(car4.name, \" \", car4.color,\" \", car4.company,\" \", car4.system,\" \", car4.model)\n",
    "print(car5.name, \" \", car5.color,\" \", car5.company,\" \", car5.system,\" \", car5.model)\n"
   ]
  },
  {
   "cell_type": "code",
   "execution_count": null,
   "metadata": {},
   "outputs": [],
   "source": []
  }
 ],
 "metadata": {
  "kernelspec": {
   "display_name": "Python 3",
   "language": "python",
   "name": "python3"
  },
  "language_info": {
   "codemirror_mode": {
    "name": "ipython",
    "version": 3
   },
   "file_extension": ".py",
   "mimetype": "text/x-python",
   "name": "python",
   "nbconvert_exporter": "python",
   "pygments_lexer": "ipython3",
   "version": "3.7.4"
  }
 },
 "nbformat": 4,
 "nbformat_minor": 2
}
