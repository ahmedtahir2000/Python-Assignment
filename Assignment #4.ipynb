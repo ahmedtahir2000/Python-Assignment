{
 "cells": [
  {
   "cell_type": "code",
   "execution_count": 6,
   "metadata": {},
   "outputs": [
    {
     "name": "stdout",
     "output_type": "stream",
     "text": [
      "{'first_name': 'Ahmed Tahir', 'last_name': 'Shekhani', 'age': '19', 'city': 'Karachi'}\n",
      "{'first_name': 'Ahmed Tahir', 'last_name': 'Shekhani', 'age': '19', 'city': 'Karachi', 'qualification': 'A Level'}\n",
      "{'first_name': 'Ahmed Tahir', 'last_name': 'Shekhani', 'age': '19', 'city': 'Karachi'}\n"
     ]
    }
   ],
   "source": [
    "data={\n",
    "    \"first_name\":\"Ahmed Tahir\",\n",
    "    \"last_name\":\"Shekhani\",\n",
    "    \"age\":\"19\",\n",
    "    \"city\":\"Karachi\"\n",
    "}\n",
    "print (data)\n",
    "data[\"qualification\"]=\"A Level\"\n",
    "print (data)\n",
    "del data[\"qualification\"]\n",
    "print (data)"
   ]
  },
  {
   "cell_type": "code",
   "execution_count": 44,
   "metadata": {},
   "outputs": [
    {
     "name": "stdout",
     "output_type": "stream",
     "text": [
      "Karachi\n",
      "country  :  Pakistan\n",
      "population  :  14.91 million\n",
      "fact  :  It is the Sixth largest city in the world by city population.\n",
      "\n",
      "\n",
      "Berlin\n",
      "country  :  Germany\n",
      "population  :  3.748 million\n",
      "fact  :  Berlin is nine times the size of Paris.\n",
      "\n",
      "\n",
      "Chicago\n",
      "country  :  USA\n",
      "population  :  2.716 million\n",
      "fact  :  Chicago is the third largest city in the U.S.\n",
      "\n",
      "\n"
     ]
    }
   ],
   "source": [
    "cities={\n",
    "    \"Karachi\":\n",
    "    {\n",
    "        \"country\":\"Pakistan\",\n",
    "        \"population\":\"14.91 million\",\n",
    "        \"fact\":\"It is the Sixth largest city in the world by city population.\"\n",
    "    },\n",
    "    \"Berlin\":\n",
    "    {\n",
    "        \"country\":\"Germany\",\n",
    "        \"population\":\"3.748 million\",\n",
    "        \"fact\":\"Berlin is nine times the size of Paris.\"\n",
    "    },\n",
    "    \"Chicago\":\n",
    "    {\n",
    "        \"country\":\"USA\",\n",
    "        \"population\":\"2.716 million\",\n",
    "        \"fact\":\"Chicago is the third largest city in the U.S.\"\n",
    "    }\n",
    "}\n",
    "\n",
    "for city in cities:\n",
    "    print (city)\n",
    "    cities_data=cities[city]\n",
    "    for city_data in cities_data:\n",
    "        print (city_data, \" : \", cities[city][city_data])\n",
    "    print(\"\\n\")"
   ]
  },
  {
   "cell_type": "code",
   "execution_count": 48,
   "metadata": {},
   "outputs": [
    {
     "name": "stdout",
     "output_type": "stream",
     "text": [
      "How many users are there: 3\n",
      "Enter your age: 3\n",
      "Ticket is free\n",
      "Enter your age: 5\n",
      "Ticket is $10\n",
      "Enter your age: 13\n",
      "Ticket is $15\n"
     ]
    }
   ],
   "source": [
    "rate={\n",
    "    \"<3\": \"Ticket is free\",\n",
    "    \">3&<12\": \"Ticket is $10\",\n",
    "    \">12\": \"Ticket is $15\",\n",
    "}\n",
    "users=int(input(\"How many users are there: \"))\n",
    "for user in range(users):\n",
    "    age=int(input(\"Enter your age: \"))\n",
    "    if age<=3:\n",
    "        print(rate[\"<3\"])\n",
    "    elif age>3 and age<=12:\n",
    "        print(rate[\">3&<12\"])\n",
    "    elif age>12:\n",
    "        print(rate[\">12\"])\n",
    "        \n"
   ]
  },
  {
   "cell_type": "code",
   "execution_count": 1,
   "metadata": {},
   "outputs": [
    {
     "name": "stdout",
     "output_type": "stream",
     "text": [
      "What is your favorite book: Harry Potter\n",
      "One of my favorite books is Harry Potter\n"
     ]
    }
   ],
   "source": [
    "title=input(\"What is your favorite book: \")\n",
    "\n",
    "def favorite_book(get_title):\n",
    "    print (\"One of my favorite books is\", title)\n",
    "\n",
    "favorite_book(title)"
   ]
  },
  {
   "cell_type": "code",
   "execution_count": 4,
   "metadata": {},
   "outputs": [
    {
     "name": "stdout",
     "output_type": "stream",
     "text": [
      "Guess any number: 5\n",
      "Hidden number is smaller than your input number\n",
      "Guess any number: 3\n",
      "Hidden number is smaller than your input number\n",
      "Guess any number: 2\n",
      "Correct!\n"
     ]
    }
   ],
   "source": [
    "import random\n",
    "num=random.randrange(1, 30)\n",
    "for chances in range(3):\n",
    "    user_num=int(input(\"Guess any number: \"))\n",
    "    if user_num==num:\n",
    "        print (\"Correct!\")\n",
    "        break\n",
    "    elif user_num>num:\n",
    "        print (\"Hidden number is smaller than your input number\")\n",
    "    else:\n",
    "        print (\"Hidden number is greater than your input number\")"
   ]
  },
  {
   "cell_type": "code",
   "execution_count": null,
   "metadata": {},
   "outputs": [],
   "source": []
  },
  {
   "cell_type": "code",
   "execution_count": null,
   "metadata": {},
   "outputs": [],
   "source": []
  },
  {
   "cell_type": "code",
   "execution_count": null,
   "metadata": {},
   "outputs": [],
   "source": []
  },
  {
   "cell_type": "code",
   "execution_count": null,
   "metadata": {},
   "outputs": [],
   "source": []
  },
  {
   "cell_type": "code",
   "execution_count": null,
   "metadata": {},
   "outputs": [],
   "source": []
  }
 ],
 "metadata": {
  "kernelspec": {
   "display_name": "Python 3",
   "language": "python",
   "name": "python3"
  },
  "language_info": {
   "codemirror_mode": {
    "name": "ipython",
    "version": 3
   },
   "file_extension": ".py",
   "mimetype": "text/x-python",
   "name": "python",
   "nbconvert_exporter": "python",
   "pygments_lexer": "ipython3",
   "version": "3.7.4"
  }
 },
 "nbformat": 4,
 "nbformat_minor": 2
}
