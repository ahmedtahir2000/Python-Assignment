{
 "cells": [
  {
   "cell_type": "code",
   "execution_count": 13,
   "metadata": {},
   "outputs": [
    {
     "name": "stdout",
     "output_type": "stream",
     "text": [
      "Enter First Subject Marks: 67\n",
      "Enter Second Subject Marks: 54\n",
      "Enter Third Subject Marks: 66\n",
      "Enter Fourth Subject Marks: 77\n",
      "Enter Fifth Subject Marks: 88\n",
      "==============Marksheet=========\n",
      "Total:  352\n",
      "percentage:  70.39999999999999\n",
      "Grade: B\n"
     ]
    }
   ],
   "source": [
    "sub1=int(input(\"Enter First Subject Marks: \"))\n",
    "sub2=int(input(\"Enter Second Subject Marks: \"))\n",
    "sub3=int(input(\"Enter Third Subject Marks: \"))\n",
    "sub4=int(input(\"Enter Fourth Subject Marks: \"))\n",
    "sub5=int(input(\"Enter Fifth Subject Marks: \"))\n",
    "total= sub1 + sub2 + sub3 + sub4 + sub5\n",
    "print(\"==============Marksheet=========\")\n",
    "print(\"Total: \" , total)\n",
    "percentage=(total/500)*100\n",
    "print(\"percentage: \" , percentage)\n",
    "if percentage > 90 or percentage == 90 :\n",
    "    print(\"Grade: A*\")\n",
    "elif percentage<90 and (percentage>80 or percentage == 80) :\n",
    "    print(\"Grade: A\")\n",
    "elif percentage<80 and (percentage>70 or percentage == 70)  :\n",
    "    print(\"Grade: B\")\n",
    "elif percentage<70 and (percentage>60 or percentage == 60) :\n",
    "    print(\"Grade: C\")\n",
    "elif percentage<60 and (percentage>50 or percentage == 50):\n",
    "    print(\"Grade: D\")\n",
    "else:\n",
    "    print(\"Grade: U\")"
   ]
  },
  {
   "cell_type": "code",
   "execution_count": 22,
   "metadata": {},
   "outputs": [
    {
     "name": "stdout",
     "output_type": "stream",
     "text": [
      "Enter Number to check whether it is even or odd:  5\n",
      "Odd\n"
     ]
    }
   ],
   "source": [
    "num=int(input(\"Enter Number to check whether it is even or odd:  \"))\n",
    "if (num%2) == 0:\n",
    "    print(\"Even\")\n",
    "else:\n",
    "    print(\"Odd\")\n",
    "    "
   ]
  },
  {
   "cell_type": "code",
   "execution_count": 21,
   "metadata": {},
   "outputs": [
    {
     "name": "stdout",
     "output_type": "stream",
     "text": [
      "Length of the given list is:  4\n"
     ]
    }
   ],
   "source": [
    "cities=[\"Karachi\", \"Islamabad\", \"Peshawar\", \"Quetta\"]\n",
    "print(\"Length of the given list is: \", len(cities))"
   ]
  },
  {
   "cell_type": "code",
   "execution_count": 37,
   "metadata": {},
   "outputs": [
    {
     "name": "stdout",
     "output_type": "stream",
     "text": [
      "Sum of numeric list=  294\n"
     ]
    }
   ],
   "source": [
    "marks = [50, 66, 80, 98]\n",
    "print(\"Sum of numeric list= \", sum(marks) )"
   ]
  },
  {
   "cell_type": "code",
   "execution_count": 36,
   "metadata": {},
   "outputs": [
    {
     "name": "stdout",
     "output_type": "stream",
     "text": [
      "Largest num is:  180\n"
     ]
    }
   ],
   "source": [
    "marks = [50, 66, 180, 98]\n",
    "if marks[0] > marks[1] and marks[0] > marks[2] and marks[0] > marks[3]:\n",
    "    print(\"Largest num is: \", marks[0])\n",
    "elif marks[1] > marks[0] and marks[1] > marks[2] and marks[1] > marks[3]:\n",
    "    print(\"Largest num is: \", marks[1])\n",
    "elif marks[2] > marks[0] and marks[2] > marks[1] and marks[2] > marks[3]:\n",
    "    print(\"Largest num is: \", marks[2])\n",
    "else:\n",
    "    print(\"Largest num is: \", marks[3])\n",
    "    "
   ]
  },
  {
   "cell_type": "code",
   "execution_count": 42,
   "metadata": {},
   "outputs": [
    {
     "name": "stdout",
     "output_type": "stream",
     "text": [
      "1\n",
      "1\n",
      "2\n",
      "3\n"
     ]
    }
   ],
   "source": [
    "a = [1, 1, 2, 3, 5, 8, 13, 21, 34, 55, 89]\n",
    "if a[0] < 5:\n",
    "    print(a[0])\n",
    "if a[1] < 5:\n",
    "    print(a[1])\n",
    "if a[2] < 5:\n",
    "    print(a[2])\n",
    "if a[3] < 5:\n",
    "    print(a[3])\n",
    "if a[4] < 5:\n",
    "    printa[4]\n",
    "if a[5] < 5:\n",
    "    print(a[5])\n",
    "if a[6] < 5:\n",
    "    printa[6]\n",
    "if a[7] < 5:\n",
    "    print(a[7])\n",
    "if a[8] < 5:\n",
    "    print(a[8])\n",
    "if a[9] < 5:\n",
    "    print(a[9])\n",
    "if a[10] < 5:\n",
    "    print(a[10])"
   ]
  },
  {
   "cell_type": "code",
   "execution_count": null,
   "metadata": {},
   "outputs": [],
   "source": []
  }
 ],
 "metadata": {
  "kernelspec": {
   "display_name": "Python 3",
   "language": "python",
   "name": "python3"
  },
  "language_info": {
   "codemirror_mode": {
    "name": "ipython",
    "version": 3
   },
   "file_extension": ".py",
   "mimetype": "text/x-python",
   "name": "python",
   "nbconvert_exporter": "python",
   "pygments_lexer": "ipython3",
   "version": "3.7.4"
  }
 },
 "nbformat": 4,
 "nbformat_minor": 2
}
