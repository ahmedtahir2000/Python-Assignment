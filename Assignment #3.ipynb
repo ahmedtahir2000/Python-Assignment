{
 "cells": [
  {
   "cell_type": "code",
   "execution_count": 9,
   "metadata": {},
   "outputs": [
    {
     "name": "stdout",
     "output_type": "stream",
     "text": [
      "Enter first number: 2\n",
      "Enter second number: 9\n",
      "Enter operator(+, -, *, /, **): +\n",
      "Answer is:  11\n"
     ]
    }
   ],
   "source": [
    "num1=input(\"Enter first number: \")\n",
    "num2=input(\"Enter second number: \")\n",
    "num1=int(num1)\n",
    "num2=int(num2)\n",
    "op=input(\"Enter operator(+, -, *, /, **): \")\n",
    "if op==\"+\":\n",
    "    result=num1+num2\n",
    "elif op==\"-\" :\n",
    "    result=num1-num2\n",
    "elif op==\"*\" :\n",
    "    result=num1*num2\n",
    "elif op==\"/\" :\n",
    "    result=num1/num2\n",
    "elif op==\"**\":\n",
    "    result=num1**num2\n",
    "print (\"Answer is: \", result)"
   ]
  },
  {
   "cell_type": "code",
   "execution_count": 11,
   "metadata": {},
   "outputs": [
    {
     "name": "stdout",
     "output_type": "stream",
     "text": [
      "There is a number\n"
     ]
    }
   ],
   "source": [
    "list1=[\"b\", 2, \"a\"]\n",
    "for check in list1:\n",
    "    if type(check) == int or type(check) == float:\n",
    "        print(\"There is a number\")\n",
    "        break"
   ]
  },
  {
   "cell_type": "code",
   "execution_count": 14,
   "metadata": {},
   "outputs": [
    {
     "data": {
      "text/plain": [
       "{'hey': 'Key added'}"
      ]
     },
     "execution_count": 14,
     "metadata": {},
     "output_type": "execute_result"
    }
   ],
   "source": [
    "dicnry={'fruit':'apple','veg':'potato'}\n",
    "dicnry[\"book\"]=\"Harry Potter\"\n",
    "dicnry[5]=\"My favourite number\"\n",
    "dicnry['dozen']=12\n",
    "dicnry"
   ]
  },
  {
   "cell_type": "code",
   "execution_count": 15,
   "metadata": {},
   "outputs": [
    {
     "name": "stdout",
     "output_type": "stream",
     "text": [
      "5\n"
     ]
    }
   ],
   "source": [
    "list1=[\"b\", 2, 3]\n",
    "num=0\n",
    "for check in list1:\n",
    "    if type(check) == int or type(check) == float:\n",
    "        num=num+check\n",
    "print (num)"
   ]
  },
  {
   "cell_type": "code",
   "execution_count": 20,
   "metadata": {},
   "outputs": [
    {
     "name": "stdout",
     "output_type": "stream",
     "text": [
      "Duplicate Values:  3\n",
      "Duplicate Values:  3\n"
     ]
    }
   ],
   "source": [
    "list1=[\"b\", 2, 3, 3]\n",
    "for check in list1:\n",
    "    if list1.count(check) > 1:\n",
    "        print(\"Duplicate Values: \",check)"
   ]
  },
  {
   "cell_type": "code",
   "execution_count": 29,
   "metadata": {},
   "outputs": [
    {
     "name": "stdout",
     "output_type": "stream",
     "text": [
      "Key already exist\n"
     ]
    }
   ],
   "source": [
    "dicnry={'fruit':'apple', 3:'potato'}\n",
    "key=\"fruit\"\n",
    "for check in dicnry.keys():\n",
    "    if check==key:\n",
    "        print(\"Key already exist\")\n"
   ]
  },
  {
   "cell_type": "code",
   "execution_count": null,
   "metadata": {},
   "outputs": [],
   "source": []
  },
  {
   "cell_type": "code",
   "execution_count": null,
   "metadata": {},
   "outputs": [],
   "source": []
  }
 ],
 "metadata": {
  "kernelspec": {
   "display_name": "Python 3",
   "language": "python",
   "name": "python3"
  },
  "language_info": {
   "codemirror_mode": {
    "name": "ipython",
    "version": 3
   },
   "file_extension": ".py",
   "mimetype": "text/x-python",
   "name": "python",
   "nbconvert_exporter": "python",
   "pygments_lexer": "ipython3",
   "version": "3.7.4"
  }
 },
 "nbformat": 4,
 "nbformat_minor": 2
}
